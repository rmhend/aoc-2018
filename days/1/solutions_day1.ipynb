{
 "cells": [
  {
   "cell_type": "code",
   "execution_count": 10,
   "metadata": {},
   "outputs": [],
   "source": [
    "# usings here"
   ]
  },
  {
   "cell_type": "code",
   "execution_count": 51,
   "metadata": {},
   "outputs": [
    {
     "data": {
      "text/plain": [
       "frequencyCalibration2 (generic function with 2 methods)"
      ]
     },
     "execution_count": 51,
     "metadata": {},
     "output_type": "execute_result"
    }
   ],
   "source": [
    "# function here\n",
    "function frequencyCalibration(shifts,startingFreq = 0)\n",
    "    N = size(shifts,1) # should work for multidimensional shifts (m-dimensional)\n",
    "    starter = startingFreq*ones(Int64,1,size(shifts,2))\n",
    "    finalFreq = starter\n",
    "    for n = 1:N\n",
    "#         println(finalFreq)\n",
    "        finalFreq = finalFreq .+ shifts[n,:]\n",
    "    end\n",
    "    return finalFreq\n",
    "end\n",
    "\n",
    "function frequencyCalibration2(shifts,startingFreq = 0)\n",
    "    N = size(shifts,1) # now doesn't actually work for m>1 because append! doesn't like it\n",
    "    starter = startingFreq*ones(Int64,1,)\n",
    "    finalFreq = starter\n",
    "    n = 1;\n",
    "    while true\n",
    "        append!(finalFreq,finalFreq[end,:] .+ shifts[n,:])\n",
    "        if !allunique(finalFreq)\n",
    "            break;\n",
    "        end\n",
    "        n+=1\n",
    "        if n>N #reset\n",
    "            n = 1\n",
    "        end\n",
    "    end\n",
    "    return finalFreq\n",
    "end"
   ]
  },
  {
   "cell_type": "code",
   "execution_count": 54,
   "metadata": {},
   "outputs": [
    {
     "name": "stdout",
     "output_type": "stream",
     "text": [
      "563\n",
      "139284\n"
     ]
    }
   ],
   "source": [
    "# load data and put it in here\n",
    "f = open(\"puzzle1_input.txt\");\n",
    "s = readlines(f)\n",
    "realShifts = map(x->parse(Int,x),s);\n",
    "testShifts = [+1; -2; +3; +1]\n",
    "finalvalue = frequencyCalibration(testShifts)\n",
    "fullHistoryUntilRepeat = frequencyCalibration2(realShifts)\n",
    "repeatedFreq = fullHistoryUntilRepeat[end]\n",
    "println(repeatedFreq)\n",
    "println(size(fullHistoryUntilRepeat,1))"
   ]
  },
  {
   "cell_type": "code",
   "execution_count": null,
   "metadata": {},
   "outputs": [],
   "source": []
  }
 ],
 "metadata": {
  "kernelspec": {
   "display_name": "Julia 1.0.1",
   "language": "julia",
   "name": "julia-1.0"
  },
  "language_info": {
   "file_extension": ".jl",
   "mimetype": "application/julia",
   "name": "julia",
   "version": "1.0.1"
  }
 },
 "nbformat": 4,
 "nbformat_minor": 2
}
