{
 "cells": [
  {
   "cell_type": "code",
   "execution_count": 100,
   "metadata": {},
   "outputs": [],
   "source": [
    "# usings here\n",
    "using StatsBase"
   ]
  },
  {
   "cell_type": "code",
   "execution_count": 101,
   "metadata": {},
   "outputs": [
    {
     "data": {
      "text/plain": [
       "twothreechecksum (generic function with 1 method)"
      ]
     },
     "execution_count": 101,
     "metadata": {},
     "output_type": "execute_result"
    }
   ],
   "source": [
    "# function here\n",
    "function letterInstances(comparators,stringtocheck)\n",
    "    numreps = zeros(length(comparators))\n",
    "    for ii = 1:length(comparators)\n",
    "        numreps[ii] = length(eachmatch(Regex(string(comparators[ii])), stringtocheck) |> collect)\n",
    "    end\n",
    "    return numreps\n",
    "end\n",
    "\n",
    "function twothreechecksum(boxIDs)\n",
    "    twos,threes = 0,0,0\n",
    "    for ii = 1:length(boxIDs)\n",
    "        s = boxIDs[ii]\n",
    "        numreps = letterInstances(unique(s),s)\n",
    "        if !iszero(count(numreps .== 2))\n",
    "            twos += 1\n",
    "        end\n",
    "        if !iszero(count(numreps .== 3))\n",
    "            threes += 1\n",
    "        end\n",
    "    end\n",
    "    return twos * threes\n",
    "end"
   ]
  },
  {
   "cell_type": "code",
   "execution_count": 102,
   "metadata": {},
   "outputs": [
    {
     "data": {
      "text/plain": [
       "8296"
      ]
     },
     "execution_count": 102,
     "metadata": {},
     "output_type": "execute_result"
    }
   ],
   "source": [
    "f = open(\"day2_data.txt\");\n",
    "s = readlines(f)\n",
    "s2 = [\"abcdef\",\"bababc\",\"abbcde\",\"abcccd\",\"aabcdd\",\"abcdee\",\"ababab\"]\n",
    "checksum = twothreechecksum(s)"
   ]
  },
  {
   "cell_type": "code",
   "execution_count": 103,
   "metadata": {},
   "outputs": [
    {
     "data": {
      "text/plain": [
       "findAgreementLetters (generic function with 1 method)"
      ]
     },
     "execution_count": 103,
     "metadata": {},
     "output_type": "execute_result"
    }
   ],
   "source": [
    "function findClosestPair(boxIDs)\n",
    "    N = length(boxIDs)\n",
    "    M = length(boxIDs[1])\n",
    "#     distances = NaN*ones(N,N)\n",
    "#     println(M,N)\n",
    "    for ii = 1:N\n",
    "        for jj = 1:N\n",
    "            editdist = M - count(collect(boxIDs[ii]) .== collect(boxIDs[jj]))\n",
    "            if editdist ==1\n",
    "                return ii,jj # assumption: unique solution pair\n",
    "            end\n",
    "        end\n",
    "    end\n",
    "end\n",
    "\n",
    "function findAgreementLetters(s1,s2)\n",
    "    x = collect(s1)\n",
    "    y = collect(s2)\n",
    "    boolAgree = (x) .== (y)\n",
    "    return join(x[boolAgree])\n",
    "end"
   ]
  },
  {
   "cell_type": "code",
   "execution_count": 104,
   "metadata": {},
   "outputs": [
    {
     "data": {
      "text/plain": [
       "\"fgij\""
      ]
     },
     "execution_count": 104,
     "metadata": {},
     "output_type": "execute_result"
    }
   ],
   "source": [
    "s3 = [\"abcde\",\"fghij\",\"klmno\",\"pqrst\",\"fguij\",\"axcye\",\"wvxyz\"]\n",
    "X,Y = findClosestPair(s3)\n",
    "x = collect(s3[X])\n",
    "y = collect(s3[Y])\n",
    "boolAgree = (x) .== (y)\n",
    "join(x[boolAgree])"
   ]
  },
  {
   "cell_type": "code",
   "execution_count": 105,
   "metadata": {},
   "outputs": [
    {
     "data": {
      "text/plain": [
       "\"pazvmqbftrbeosiecxlghkwud\""
      ]
     },
     "execution_count": 105,
     "metadata": {},
     "output_type": "execute_result"
    }
   ],
   "source": [
    "x,y = findClosestPair(s)\n",
    "agreementLetters = findAgreementLetters(s[x],s[y])"
   ]
  },
  {
   "cell_type": "code",
   "execution_count": null,
   "metadata": {},
   "outputs": [],
   "source": []
  }
 ],
 "metadata": {
  "kernelspec": {
   "display_name": "Julia 1.0.1",
   "language": "julia",
   "name": "julia-1.0"
  },
  "language_info": {
   "file_extension": ".jl",
   "mimetype": "application/julia",
   "name": "julia",
   "version": "1.0.1"
  }
 },
 "nbformat": 4,
 "nbformat_minor": 2
}
