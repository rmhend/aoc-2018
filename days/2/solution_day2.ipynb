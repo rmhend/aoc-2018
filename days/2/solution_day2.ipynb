{
 "cells": [
  {
   "cell_type": "code",
   "execution_count": 3,
   "metadata": {},
   "outputs": [],
   "source": [
    "# usings here"
   ]
  },
  {
   "cell_type": "code",
   "execution_count": 4,
   "metadata": {},
   "outputs": [],
   "source": [
    "# function here\n",
    "function letterInstances(comparators,stringtocheck)\n",
    "    numreps = zeros(length(comparators))\n",
    "    for ii = 1:lengh(comparators)\n",
    "        numreps[ii] = length(eachmatch(Regex(string(comparators[ii])), stringtocheck) |> collect)\n",
    "    end\n",
    "    return numreps\n",
    "end\n",
    "\n",
    "function twothreechecksum(boxIDs)\n",
    "    checksum = 0\n",
    "    for ii = 1:length(boxIDs)\n",
    "        s = boxIDs[ii]\n",
    "        numreps = letterInstances(unique(s),s)\n",
    "        twocount = \n",
    "        "
   ]
  },
  {
   "cell_type": "code",
   "execution_count": 5,
   "metadata": {},
   "outputs": [
    {
     "data": {
      "text/plain": [
       "250-element Array{String,1}:\n",
       " \"bazvmqthjtrnlosiecxyghkwud\"\n",
       " \"pazvmqbijirzlosiecxyghkwud\"\n",
       " \"pazvtqbmjtrnlosiecxyghkwzd\"\n",
       " \"pazvmqbfjtrjlosnlcxyghkwud\"\n",
       " \"pazvkqbfjtrtlosiecjyghkwud\"\n",
       " \"paztmqbfjtrnbosiecxyglkwud\"\n",
       " \"pazvmqbfjtunlosievxmghkwud\"\n",
       " \"pazvmqbfjtmngosiecyyghkwud\"\n",
       " \"jazvmqbfjtrnlosiecxygikpud\"\n",
       " \"pazvqqbfctrnlosimcxyghkwud\"\n",
       " \"pazvmqbfjtrnwogiecxyihkwud\"\n",
       " \"pazvmqbfjtrqlojiecxeghkwud\"\n",
       " \"payvmqbfjtrzlosiecxyghkwuk\"\n",
       " ⋮                           \n",
       " \"pazvmqbfjtuslosiecxyghksud\"\n",
       " \"pazvmqbfjnrnlosiedxyghkwup\"\n",
       " \"pazvmqbjjtrnlosieaxyghdwud\"\n",
       " \"pazccqbfjtrhlosiecxyghkwud\"\n",
       " \"pbzvmqkfjtrnlosievxyghkwud\"\n",
       " \"pazvmqrljtrnlosiscxyghkwud\"\n",
       " \"pazvmqbfjfoqlosiecxyghkwud\"\n",
       " \"pazcmqbfjtrnlosiecxyihkwuf\"\n",
       " \"pszvmqbfjtrnnosiacxyghkwud\"\n",
       " \"aazvmqbfjtrnlosieyxyghkwld\"\n",
       " \"pazvrqbfntrnlosiycxyghkwud\"\n",
       " \"pkzvoqbfjtrnlosiecxyghxwud\""
      ]
     },
     "execution_count": 5,
     "metadata": {},
     "output_type": "execute_result"
    }
   ],
   "source": [
    "f = open(\"day2_data.txt\");\n",
    "s = readlines(f)"
   ]
  },
  {
   "cell_type": "code",
   "execution_count": 7,
   "metadata": {},
   "outputs": [
    {
     "data": {
      "text/plain": [
       "\"bazvmqthjtrnlosiecxyghkwud\""
      ]
     },
     "execution_count": 7,
     "metadata": {},
     "output_type": "execute_result"
    }
   ],
   "source": [
    "z = s[1]"
   ]
  },
  {
   "cell_type": "code",
   "execution_count": 11,
   "metadata": {},
   "outputs": [
    {
     "data": {
      "text/plain": [
       "250"
      ]
     },
     "execution_count": 11,
     "metadata": {},
     "output_type": "execute_result"
    }
   ],
   "source": [
    "string(z[1])\n",
    "length(s)"
   ]
  },
  {
   "cell_type": "code",
   "execution_count": 10,
   "metadata": {},
   "outputs": [
    {
     "name": "stdout",
     "output_type": "stream",
     "text": [
      "search: \u001b[0m\u001b[1mc\u001b[22m\u001b[0m\u001b[1mh\u001b[22m\u001b[0m\u001b[1me\u001b[22m\u001b[0m\u001b[1mc\u001b[22m\u001b[0m\u001b[1mk\u001b[22mbound\u001b[0m\u001b[1ms\u001b[22m\n",
      "\n",
      "Couldn't find \u001b[36mchecksum\u001b[39m\n",
      "Perhaps you meant cumsum\n"
     ]
    },
    {
     "data": {
      "text/latex": [
       "No documentation found.\n",
       "\n",
       "Binding \\texttt{checksum} does not exist.\n",
       "\n"
      ],
      "text/markdown": [
       "No documentation found.\n",
       "\n",
       "Binding `checksum` does not exist.\n"
      ],
      "text/plain": [
       "  No documentation found.\n",
       "\n",
       "  Binding \u001b[36mchecksum\u001b[39m does not exist."
      ]
     },
     "execution_count": 10,
     "metadata": {},
     "output_type": "execute_result"
    }
   ],
   "source": [
    "?checksum"
   ]
  },
  {
   "cell_type": "code",
   "execution_count": null,
   "metadata": {},
   "outputs": [],
   "source": []
  }
 ],
 "metadata": {
  "kernelspec": {
   "display_name": "Julia 1.0.1",
   "language": "julia",
   "name": "julia-1.0"
  },
  "language_info": {
   "file_extension": ".jl",
   "mimetype": "application/julia",
   "name": "julia",
   "version": "1.0.1"
  }
 },
 "nbformat": 4,
 "nbformat_minor": 2
}
