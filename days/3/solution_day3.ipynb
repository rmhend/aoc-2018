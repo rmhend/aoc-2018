{
 "cells": [
  {
   "cell_type": "code",
   "execution_count": 18,
   "metadata": {},
   "outputs": [
    {
     "data": {
      "text/plain": [
       "findLonelyClaim (generic function with 1 method)"
      ]
     },
     "execution_count": 18,
     "metadata": {},
     "output_type": "execute_result"
    }
   ],
   "source": [
    "# function here\n",
    "function splitToNABCD(s) # s is a string\n",
    "    n,s2 = split(s, \"@\")\n",
    "    n = parse(Int, n[2:end-1])\n",
    "    sab,scd = split(s2, \":\")\n",
    "    sa,sb = split(sab,\",\")\n",
    "    sc,sd = split(scd,\"x\")\n",
    "    a = parse(Int, sa[2:end])\n",
    "    b = parse(Int, sb)\n",
    "    c = parse(Int, sc[2:end])\n",
    "    d = parse(Int, sd)\n",
    "    return n,a,b,c,d\n",
    "end\n",
    "\n",
    "function updateClothGrid(g,s) # g is existing grid, s is claim string\n",
    "    n,a,b,cc,dd = splitToNABCD(s)\n",
    "    for c = 1:cc\n",
    "        for d = 1:dd\n",
    "            g[a+c,b+d] = g[a+c,b+d] + 1\n",
    "        end\n",
    "    end\n",
    "    return g\n",
    "end\n",
    "\n",
    "function findLonelyClaim(g,s,nprev)\n",
    "    n,a,b,cc,dd = splitToNABCD(s)\n",
    "    if (count(g[a+1:a+cc,b+1:b+dd] .== 1) == cc*dd)\n",
    "        nnew = n\n",
    "        println(\"updated n, new n is $nnew\")\n",
    "    else\n",
    "        nnew = nprev\n",
    "    end\n",
    "    return nnew\n",
    "end"
   ]
  },
  {
   "cell_type": "code",
   "execution_count": 19,
   "metadata": {},
   "outputs": [
    {
     "name": "stdout",
     "output_type": "stream",
     "text": [
      "updated n, new n is 3\n"
     ]
    },
    {
     "data": {
      "text/plain": [
       "4"
      ]
     },
     "execution_count": 19,
     "metadata": {},
     "output_type": "execute_result"
    }
   ],
   "source": [
    "# test data\n",
    "s = [\"#1 @ 1,3: 4x4\",\"#2 @ 3,1: 4x4\",\"#3 @ 5,5: 2x2\"]\n",
    "g = zeros(Int,8,8)\n",
    "n = 0\n",
    "for ii = 1:length(s)\n",
    "    g = updateClothGrid(g,s[ii])\n",
    "end\n",
    "for ii = 1:length(s)\n",
    "    n = findLonelyClaim(g,s[ii],n)\n",
    "end\n",
    "conflicts = count(g .> 1)"
   ]
  },
  {
   "cell_type": "code",
   "execution_count": 20,
   "metadata": {},
   "outputs": [
    {
     "name": "stdout",
     "output_type": "stream",
     "text": [
      "updated n, new n is 164\n"
     ]
    },
    {
     "data": {
      "text/plain": [
       "105231"
      ]
     },
     "execution_count": 20,
     "metadata": {},
     "output_type": "execute_result"
    }
   ],
   "source": [
    "# real data\n",
    "f = open(\"day3_data.txt\");\n",
    "s = readlines(f)\n",
    "g = zeros(Int,1000,1000)\n",
    "n = 0\n",
    "for ii = 1:length(s)\n",
    "    g = updateClothGrid(g,s[ii])\n",
    "end\n",
    "for ii = 1:length(s)\n",
    "    n = findLonelyClaim(g,s[ii],n)\n",
    "end\n",
    "conflicts = count(g .> 1)"
   ]
  }
 ],
 "metadata": {
  "kernelspec": {
   "display_name": "Julia 1.0.1",
   "language": "julia",
   "name": "julia-1.0"
  },
  "language_info": {
   "file_extension": ".jl",
   "mimetype": "application/julia",
   "name": "julia",
   "version": "1.0.1"
  }
 },
 "nbformat": 4,
 "nbformat_minor": 2
}
