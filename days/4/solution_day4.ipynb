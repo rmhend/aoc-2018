{
 "cells": [
  {
   "cell_type": "code",
   "execution_count": null,
   "metadata": {},
   "outputs": [],
   "source": [
    "function orderChronologically(s) # s is a string\n",
    "    dateformat\"[Y-m-d h:m]\"\n",
    "    \n",
    "    n,s2 = split(s, \"@\")\n",
    "    n = parse(Int, n[2:end-1])\n",
    "    sab,scd = split(s2, \":\")\n",
    "    sa,sb = split(sab,\",\")\n",
    "    sc,sd = split(scd,\"x\")\n",
    "    a = parse(Int, sa[2:end])\n",
    "    b = parse(Int, sb)\n",
    "    c = parse(Int, sc[2:end])\n",
    "    d = parse(Int, sd)\n",
    "    return n,a,b,c,d\n",
    "end"
   ]
  }
 ],
 "metadata": {
  "kernelspec": {
   "display_name": "Julia 1.0.1",
   "language": "julia",
   "name": "julia-1.0"
  },
  "language_info": {
   "file_extension": ".jl",
   "mimetype": "application/julia",
   "name": "julia",
   "version": "1.0.1"
  }
 },
 "nbformat": 4,
 "nbformat_minor": 2
}
