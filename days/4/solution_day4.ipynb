{
 "cells": [
  {
   "cell_type": "code",
   "execution_count": 2,
   "metadata": {},
   "outputs": [],
   "source": [
    "using Dates"
   ]
  },
  {
   "cell_type": "code",
   "execution_count": 54,
   "metadata": {},
   "outputs": [
    {
     "data": {
      "text/plain": [
       "orderChronologically (generic function with 1 method)"
      ]
     },
     "execution_count": 54,
     "metadata": {},
     "output_type": "execute_result"
    }
   ],
   "source": [
    "function orderChronologically(s) # s is a string\n",
    "    z = split.(s,']')\n",
    "    stamps = [z[i][1] for i in 1:length(z)]\n",
    "    actions = [z[i][2] for i in 1:length(z)]\n",
    "    \n",
    "    dformat = Dates.DateFormat(\"[y-m-d H:M\");\n",
    "    dt = DateTime.(stamps,dformat)\n",
    "    dt_idx = sortperm(d)\n",
    "    stamps_sorted = dt[dt_idx]\n",
    "    actions_sorted = actions[dt_idx]\n",
    "\n",
    "    return stamps_sorted, actions_sorted\n",
    "end"
   ]
  },
  {
   "cell_type": "code",
   "execution_count": 55,
   "metadata": {},
   "outputs": [
    {
     "data": {
      "text/plain": [
       "17-element Array{String,1}:\n",
       " \"[1518-11-01 00:00] Guard #10 begins shift\"\n",
       " \"[1518-11-01 00:05] falls asleep\"          \n",
       " \"[1518-11-01 00:25] wakes up\"              \n",
       " \"[1518-11-01 00:30] falls asleep\"          \n",
       " \"[1518-11-01 00:55] wakes up\"              \n",
       " \"[1518-11-05 00:03] Guard #99 begins shift\"\n",
       " \"[1518-11-05 00:45] falls asleep\"          \n",
       " \"[1518-11-01 23:58] Guard #99 begins shift\"\n",
       " \"[1518-11-02 00:40] falls asleep\"          \n",
       " \"[1518-11-02 00:50] wakes up\"              \n",
       " \"[1518-11-03 00:05] Guard #10 begins shift\"\n",
       " \"[1518-11-03 00:24] falls asleep\"          \n",
       " \"[1518-11-03 00:29] wakes up\"              \n",
       " \"[1518-11-04 00:02] Guard #99 begins shift\"\n",
       " \"[1518-11-04 00:36] falls asleep\"          \n",
       " \"[1518-11-04 00:46] wakes up\"              \n",
       " \"[1518-11-05 00:55] wakes up\"              "
      ]
     },
     "execution_count": 55,
     "metadata": {},
     "output_type": "execute_result"
    }
   ],
   "source": [
    "testdata = [\"[1518-11-01 00:00] Guard #10 begins shift\"\n",
    "\"[1518-11-01 00:05] falls asleep\"\n",
    "\"[1518-11-01 00:25] wakes up\"\n",
    "\"[1518-11-01 00:30] falls asleep\"\n",
    "\"[1518-11-01 00:55] wakes up\"\n",
    "\"[1518-11-05 00:03] Guard #99 begins shift\"\n",
    "\"[1518-11-05 00:45] falls asleep\"\n",
    "\"[1518-11-01 23:58] Guard #99 begins shift\"\n",
    "\"[1518-11-02 00:40] falls asleep\"\n",
    "\"[1518-11-02 00:50] wakes up\"\n",
    "\"[1518-11-03 00:05] Guard #10 begins shift\"\n",
    "\"[1518-11-03 00:24] falls asleep\"\n",
    "\"[1518-11-03 00:29] wakes up\"\n",
    "\"[1518-11-04 00:02] Guard #99 begins shift\"\n",
    "\"[1518-11-04 00:36] falls asleep\"\n",
    "\"[1518-11-04 00:46] wakes up\"\n",
    "\"[1518-11-05 00:55] wakes up\"]"
   ]
  },
  {
   "cell_type": "code",
   "execution_count": 53,
   "metadata": {},
   "outputs": [
    {
     "data": {
      "text/plain": [
       "17-element Array{DateTime,1}:\n",
       " 1518-11-01T00:00:00\n",
       " 1518-11-01T00:05:00\n",
       " 1518-11-01T00:25:00\n",
       " 1518-11-01T00:30:00\n",
       " 1518-11-01T00:55:00\n",
       " 1518-11-01T23:58:00\n",
       " 1518-11-02T00:40:00\n",
       " 1518-11-02T00:50:00\n",
       " 1518-11-03T00:05:00\n",
       " 1518-11-03T00:24:00\n",
       " 1518-11-03T00:29:00\n",
       " 1518-11-04T00:02:00\n",
       " 1518-11-04T00:36:00\n",
       " 1518-11-04T00:46:00\n",
       " 1518-11-05T00:03:00\n",
       " 1518-11-05T00:45:00\n",
       " 1518-11-05T00:55:00"
      ]
     },
     "execution_count": 53,
     "metadata": {},
     "output_type": "execute_result"
    }
   ],
   "source": [
    "z = split.(testdata,']')\n",
    "zz = [z[i][1] for i in 1:length(z)]\n",
    "dformat = Dates.DateFormat(\"[y-m-d H:M\");\n",
    "d = DateTime.(zz,dformat)\n",
    "di = sortperm(d)\n",
    "d[di]"
   ]
  },
  {
   "cell_type": "code",
   "execution_count": 48,
   "metadata": {},
   "outputs": [
    {
     "data": {
      "text/plain": [
       "6-element Array{DateTime,1}:\n",
       " 2010-01-01T00:55:00\n",
       " 2011-03-23T00:58:00\n",
       " 2012-11-03T00:23:00\n",
       " 2013-04-13T00:55:00\n",
       " 2014-09-20T00:55:00\n",
       " 2015-03-01T00:55:00"
      ]
     },
     "execution_count": 48,
     "metadata": {},
     "output_type": "execute_result"
    }
   ],
   "source": [
    "dformat = Dates.DateFormat(\"[y-m-d H:M\");\n",
    "Dates.DateTime.([   # broadcast\n",
    "      \"[2010-01-01 00:55\", \n",
    "      \"[2011-03-23 00:58\", \n",
    "      \"[2012-11-3 00:23\", \n",
    "      \"[2013-4-13 00:55\", \n",
    "      \"[2014-9-20 00:55\", \n",
    "      \"[2015-3-1 00:55\"\n",
    "      ], dformat)\n"
   ]
  },
  {
   "cell_type": "code",
   "execution_count": null,
   "metadata": {},
   "outputs": [],
   "source": []
  }
 ],
 "metadata": {
  "kernelspec": {
   "display_name": "Julia 1.0.1",
   "language": "julia",
   "name": "julia-1.0"
  },
  "language_info": {
   "file_extension": ".jl",
   "mimetype": "application/julia",
   "name": "julia",
   "version": "1.0.1"
  }
 },
 "nbformat": 4,
 "nbformat_minor": 2
}
